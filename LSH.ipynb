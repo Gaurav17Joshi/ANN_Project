{
 "cells": [
  {
   "attachments": {},
   "cell_type": "markdown",
   "metadata": {},
   "source": [
    "####    IMPLEMENTATION OF LOCALITY SENSITIVE HASHING FOR QUERY SEARCHING"
   ]
  },
  {
   "attachments": {},
   "cell_type": "markdown",
   "metadata": {},
   "source": [
    "In this notebook we will implement an LSH method, whihch searches for the nearest neighbours of a query sentence from scratch."
   ]
  },
  {
   "cell_type": "code",
   "execution_count": 1,
   "metadata": {},
   "outputs": [],
   "source": [
    "# Importing libraries\n",
    "import requests\n",
    "import pandas as pd\n",
    "import numpy as np\n",
    "from io import StringIO \n",
    "import warnings\n",
    "warnings.filterwarnings(\"ignore\", category=FutureWarning)\n",
    "import random\n",
    "random.seed(42)"
   ]
  },
  {
   "cell_type": "code",
   "execution_count": 4,
   "metadata": {},
   "outputs": [
    {
     "data": {
      "text/html": [
       "<div>\n",
       "<style scoped>\n",
       "    .dataframe tbody tr th:only-of-type {\n",
       "        vertical-align: middle;\n",
       "    }\n",
       "\n",
       "    .dataframe tbody tr th {\n",
       "        vertical-align: top;\n",
       "    }\n",
       "\n",
       "    .dataframe thead th {\n",
       "        text-align: right;\n",
       "    }\n",
       "</style>\n",
       "<table border=\"1\" class=\"dataframe\">\n",
       "  <thead>\n",
       "    <tr style=\"text-align: right;\">\n",
       "      <th></th>\n",
       "      <th>pair_ID</th>\n",
       "      <th>sentence_A</th>\n",
       "      <th>sentence_B</th>\n",
       "      <th>relatedness_score</th>\n",
       "      <th>entailment_judgment</th>\n",
       "    </tr>\n",
       "  </thead>\n",
       "  <tbody>\n",
       "    <tr>\n",
       "      <th>0</th>\n",
       "      <td>1</td>\n",
       "      <td>A group of kids is playing in a yard and an ol...</td>\n",
       "      <td>A group of boys in a yard is playing and a man...</td>\n",
       "      <td>4.5</td>\n",
       "      <td>NEUTRAL</td>\n",
       "    </tr>\n",
       "    <tr>\n",
       "      <th>1</th>\n",
       "      <td>2</td>\n",
       "      <td>A group of children is playing in the house an...</td>\n",
       "      <td>A group of kids is playing in a yard and an ol...</td>\n",
       "      <td>3.2</td>\n",
       "      <td>NEUTRAL</td>\n",
       "    </tr>\n",
       "    <tr>\n",
       "      <th>2</th>\n",
       "      <td>3</td>\n",
       "      <td>The young boys are playing outdoors and the ma...</td>\n",
       "      <td>The kids are playing outdoors near a man with ...</td>\n",
       "      <td>4.7</td>\n",
       "      <td>ENTAILMENT</td>\n",
       "    </tr>\n",
       "    <tr>\n",
       "      <th>3</th>\n",
       "      <td>5</td>\n",
       "      <td>The kids are playing outdoors near a man with ...</td>\n",
       "      <td>A group of kids is playing in a yard and an ol...</td>\n",
       "      <td>3.4</td>\n",
       "      <td>NEUTRAL</td>\n",
       "    </tr>\n",
       "    <tr>\n",
       "      <th>4</th>\n",
       "      <td>9</td>\n",
       "      <td>The young boys are playing outdoors and the ma...</td>\n",
       "      <td>A group of kids is playing in a yard and an ol...</td>\n",
       "      <td>3.7</td>\n",
       "      <td>NEUTRAL</td>\n",
       "    </tr>\n",
       "  </tbody>\n",
       "</table>\n",
       "</div>"
      ],
      "text/plain": [
       "   pair_ID                                         sentence_A  \\\n",
       "0        1  A group of kids is playing in a yard and an ol...   \n",
       "1        2  A group of children is playing in the house an...   \n",
       "2        3  The young boys are playing outdoors and the ma...   \n",
       "3        5  The kids are playing outdoors near a man with ...   \n",
       "4        9  The young boys are playing outdoors and the ma...   \n",
       "\n",
       "                                          sentence_B  relatedness_score  \\\n",
       "0  A group of boys in a yard is playing and a man...                4.5   \n",
       "1  A group of kids is playing in a yard and an ol...                3.2   \n",
       "2  The kids are playing outdoors near a man with ...                4.7   \n",
       "3  A group of kids is playing in a yard and an ol...                3.4   \n",
       "4  A group of kids is playing in a yard and an ol...                3.7   \n",
       "\n",
       "  entailment_judgment  \n",
       "0             NEUTRAL  \n",
       "1             NEUTRAL  \n",
       "2          ENTAILMENT  \n",
       "3             NEUTRAL  \n",
       "4             NEUTRAL  "
      ]
     },
     "execution_count": 4,
     "metadata": {},
     "output_type": "execute_result"
    }
   ],
   "source": [
    "res = requests.get('https://raw.githubusercontent.com/brmson/dataset-sts/master/data/sts/sick2014/SICK_train.txt')\n",
    "# create dataframe\n",
    "fin = open('data_folder/data1.csv', 'w')\n",
    "fin.write(res.text)\n",
    "fin.close\n",
    "\n",
    "data = pd.read_csv(StringIO(res.text), sep='\\t')\n",
    "data.head()"
   ]
  },
  {
   "cell_type": "code",
   "execution_count": 5,
   "metadata": {},
   "outputs": [
    {
     "name": "stdout",
     "output_type": "stream",
     "text": [
      "4802\n",
      "The kids are playing outdoors near a man with a smile\n"
     ]
    }
   ],
   "source": [
    "# we take all samples from both sentence A and B\n",
    "sentences = data[\"sentence_A\"].tolist()\n",
    "sentence_b = data[\"sentence_B\"].tolist()\n",
    "sentences.extend(sentence_b)  # merge them\n",
    "print(len(set(sentences)))\n",
    "print(sentences[3])"
   ]
  },
  {
   "cell_type": "code",
   "execution_count": 6,
   "metadata": {},
   "outputs": [
    {
     "name": "stderr",
     "output_type": "stream",
     "text": [
      "b'Skipping line 191: expected 3 fields, saw 4\\nSkipping line 206: expected 3 fields, saw 4\\nSkipping line 295: expected 3 fields, saw 4\\nSkipping line 695: expected 3 fields, saw 4\\nSkipping line 699: expected 3 fields, saw 4\\n'\n",
      "b'Skipping line 104: expected 3 fields, saw 4\\nSkipping line 181: expected 3 fields, saw 4\\nSkipping line 317: expected 3 fields, saw 4\\nSkipping line 412: expected 3 fields, saw 5\\nSkipping line 508: expected 3 fields, saw 4\\n'\n"
     ]
    }
   ],
   "source": [
    "urls = [\n",
    "    'https://raw.githubusercontent.com/brmson/dataset-sts/master/data/sts/semeval-sts/2012/MSRpar.train.tsv',\n",
    "    'https://raw.githubusercontent.com/brmson/dataset-sts/master/data/sts/semeval-sts/2012/MSRpar.test.tsv',\n",
    "    'https://raw.githubusercontent.com/brmson/dataset-sts/master/data/sts/semeval-sts/2012/OnWN.test.tsv',\n",
    "    'https://raw.githubusercontent.com/brmson/dataset-sts/master/data/sts/semeval-sts/2013/OnWN.test.tsv',\n",
    "    'https://raw.githubusercontent.com/brmson/dataset-sts/master/data/sts/semeval-sts/2014/OnWN.test.tsv',\n",
    "    'https://raw.githubusercontent.com/brmson/dataset-sts/master/data/sts/semeval-sts/2014/images.test.tsv',\n",
    "    'https://raw.githubusercontent.com/brmson/dataset-sts/master/data/sts/semeval-sts/2015/images.test.tsv'\n",
    "]\n",
    "\n",
    "locations = [\n",
    "    'data_folder/data2.csv',\n",
    "    'data_folder/data3.csv',\n",
    "    'data_folder/data4.csv',\n",
    "    'data_folder/data5.csv',\n",
    "    'data_folder/data6.csv',\n",
    "    'data_folder/data7.csv',\n",
    "    'data_folder/data8.csv'\n",
    "]\n",
    "\n",
    "for i, url in enumerate(urls):\n",
    "    res = requests.get(url)\n",
    "    # Save in data folder\n",
    "    fin = open(locations[i], 'w')\n",
    "    fin.write(res.text)\n",
    "    fin.close\n",
    "    # extract to dataframe\n",
    "    data = pd.read_csv(StringIO(res.text), sep='\\t', header=None, error_bad_lines=False)\n",
    "    # add to columns 1 and 2 to sentences list\n",
    "    sentences.extend(data[1].tolist())\n",
    "    sentences.extend(data[2].tolist())\n",
    "    "
   ]
  },
  {
   "attachments": {},
   "cell_type": "markdown",
   "metadata": {},
   "source": [
    "We make a set of sentences and it has 14504 sentences"
   ]
  },
  {
   "cell_type": "code",
   "execution_count": 7,
   "metadata": {},
   "outputs": [
    {
     "name": "stdout",
     "output_type": "stream",
     "text": [
      "14504\n"
     ]
    }
   ],
   "source": [
    "sentences = [word for word in list(set(sentences)) if type(word) is str]\n",
    "print(len(sentences))"
   ]
  },
  {
   "cell_type": "code",
   "execution_count": 40,
   "metadata": {},
   "outputs": [
    {
     "name": "stdout",
     "output_type": "stream",
     "text": [
      "41970\n",
      "41970\n"
     ]
    }
   ],
   "source": [
    "# Building a random vocabulary for all the shingles of these\n",
    "K = 4   # K = 4,5 shingles size\n",
    "\n",
    "def make_shingles(text: str, k: int) -> list:\n",
    "    shingles = []\n",
    "    for i in range(len(text)-k+1):\n",
    "        shingles.append(text[i:i+k])\n",
    "    return set(shingles) #list(set(shingles))\n",
    "\n",
    "all_shingles = []\n",
    "for sentence in sentences:\n",
    "    shingles = make_shingles(sentence, K)\n",
    "    for shingle in shingles:\n",
    "        all_shingles.append(shingle)\n",
    "\n",
    "all_shingles = list(set(all_shingles))\n",
    "\n",
    "def make_vocab(all_shingles:list) -> dict:\n",
    "    newlist = random.sample(all_shingles, len(all_shingles))\n",
    "    print(len(all_shingles))\n",
    "    vocab = {}\n",
    "    for i,shingle in enumerate(newlist):\n",
    "        vocab[shingle] = i\n",
    "    return vocab\n",
    "\n",
    "vocabulary = make_vocab(all_shingles)\n",
    "\n",
    "print(len(vocabulary))\n"
   ]
  },
  {
   "attachments": {},
   "cell_type": "markdown",
   "metadata": {},
   "source": [
    "The vocabulary has a total of 41970 shingles. Now we will make the 100 signature arrays which will be used for Minhashing"
   ]
  },
  {
   "cell_type": "code",
   "execution_count": 41,
   "metadata": {},
   "outputs": [
    {
     "name": "stdout",
     "output_type": "stream",
     "text": [
      "[ 4580 13611  4091  1503 36638]\n",
      "[17989 24608 34424 28658 28675]\n"
     ]
    }
   ],
   "source": [
    "# Made the vocabulary, now we can make one hot vectors of the sentences, then we will form their signatures\n",
    "signature_array = []\n",
    "np.random.seed(42)\n",
    "\n",
    "L = 100\n",
    "for i in range(L):\n",
    "    arr = np.arange(0,len(vocabulary))\n",
    "    np.random.shuffle(arr)\n",
    "    signature_array.append(arr)\n",
    "\n",
    "print(signature_array[0][:5])\n",
    "print(signature_array[1][:5])"
   ]
  },
  {
   "attachments": {},
   "cell_type": "markdown",
   "metadata": {},
   "source": [
    "We will make the sparse vectors for each sentence and then minhash them into their respective 100 length signatures"
   ]
  },
  {
   "cell_type": "code",
   "execution_count": 42,
   "metadata": {},
   "outputs": [
    {
     "name": "stdout",
     "output_type": "stream",
     "text": [
      "0\n",
      "1000\n",
      "2000\n",
      "3000\n",
      "4000\n",
      "5000\n",
      "6000\n",
      "7000\n",
      "8000\n",
      "9000\n",
      "10000\n",
      "11000\n",
      "12000\n",
      "13000\n",
      "14000\n"
     ]
    }
   ],
   "source": [
    "def make_svector(text: str, k: int, vocab:dict) ->np.array:\n",
    "    shingle = make_shingles(text,k)\n",
    "    svector = np.zeros(len(vocab))\n",
    "    for sh in shingle:\n",
    "        if sh in vocab.keys():\n",
    "            svector[vocab[sh]] = 1\n",
    "    return svector\n",
    "\n",
    "def make_signature(svect:np.array, sig_arr : list) -> np.array:\n",
    "    signature = np.zeros(len(sig_arr))\n",
    "    for i, arr in enumerate(sig_arr):\n",
    "        for j, sig in enumerate(sig_arr[i]):\n",
    "            if (svect[sig] == 1):\n",
    "                signature[i] = j\n",
    "                break\n",
    "    return signature\n",
    "\n",
    "signatures = []\n",
    "for i,text in enumerate(sentences):\n",
    "    if (i%1000 == 0):\n",
    "        print(i)\n",
    "    sparr = make_svector(text,K,vocabulary)\n",
    "    signatures.append(make_signature(sparr, signature_array))"
   ]
  },
  {
   "attachments": {},
   "cell_type": "markdown",
   "metadata": {},
   "source": [
    "Nice, so we have made all the signatures and now we can make the cp (candidate pairs dictionary)"
   ]
  },
  {
   "cell_type": "code",
   "execution_count": 44,
   "metadata": {},
   "outputs": [
    {
     "name": "stdout",
     "output_type": "stream",
     "text": [
      "j =  0\n"
     ]
    }
   ],
   "source": [
    "def split_vector(signature: np.array, b:int) -> list:\n",
    "    assert len(signature) % b == 0\n",
    "    r = int(len(signature) / b)\n",
    "    # code splitting signature in b parts\n",
    "    subvecs = []\n",
    "    for i in range(0, len(signature), r):\n",
    "        strlist = [str(int(s)) for s in signature[i : i+r]]\n",
    "        string = ','.join(strlist) \n",
    "        subvecs.append(string)\n",
    "    return subvecs\n",
    "\n",
    "no_of_splits = 20\n",
    "\n",
    "def make_candidate_pairs(signatures: list, no_of_splits:int) -> list:\n",
    "    candidate_pairs = []\n",
    "    for i in range(no_of_splits):\n",
    "        candidate_pairs.append({})\n",
    "    for j,sig in enumerate(signatures):\n",
    "        if(j%1000 == 0):\n",
    "            print(\"j = \",j)\n",
    "        \n",
    "        split_vect = split_vector(sig,no_of_splits)\n",
    "        for i in range(no_of_splits): \n",
    "            if split_vect[i] not in candidate_pairs[i].keys():\n",
    "                candidate_pairs[i][split_vect[i]] = [j]\n",
    "            else:\n",
    "                candidate_pairs[i][split_vect[i]].append(j)\n",
    "    return candidate_pairs\n",
    "\n",
    "cp = make_candidate_pairs( signatures[:5],no_of_splits)\n"
   ]
  },
  {
   "attachments": {},
   "cell_type": "markdown",
   "metadata": {},
   "source": [
    "Note: numpy.ndarrays, lists are not hashable, so we convert the vectors into comma separated variables"
   ]
  },
  {
   "cell_type": "code",
   "execution_count": 45,
   "metadata": {},
   "outputs": [
    {
     "name": "stdout",
     "output_type": "stream",
     "text": [
      "j =  0\n",
      "j =  1000\n",
      "j =  2000\n",
      "j =  3000\n",
      "j =  4000\n",
      "j =  5000\n",
      "j =  6000\n",
      "j =  7000\n",
      "j =  8000\n",
      "j =  9000\n",
      "j =  10000\n",
      "j =  11000\n",
      "j =  12000\n",
      "j =  13000\n",
      "j =  14000\n"
     ]
    }
   ],
   "source": [
    "candidate_pairs = make_candidate_pairs( signatures,no_of_splits)"
   ]
  },
  {
   "attachments": {},
   "cell_type": "markdown",
   "metadata": {},
   "source": [
    "As we can see out of ~ 14500 sentences, ~ 13200 buckets were formed, which is source of concern as it means that a high percent of sentences did not collide with any other, so this is a potential source of improvement. "
   ]
  },
  {
   "cell_type": "code",
   "execution_count": 47,
   "metadata": {},
   "outputs": [
    {
     "name": "stdout",
     "output_type": "stream",
     "text": [
      "20\n",
      "13237\n"
     ]
    }
   ],
   "source": [
    "print(len(candidate_pairs))\n",
    "print(len(candidate_pairs[10]))"
   ]
  },
  {
   "cell_type": "code",
   "execution_count": 48,
   "metadata": {},
   "outputs": [],
   "source": [
    "def ANN(text:str, cp, vocab:dict, k:int, b:int, sig_arr:list, sentences: list) -> list:\n",
    "    spvect = make_svector(text,k,vocabulary)\n",
    "    signatur = make_signature(spvect , sig_arr)\n",
    "    split_vect = split_vector(signatur, b)\n",
    "    ann = []\n",
    "    for i in range(b):\n",
    "        if split_vect[i] in (cp[i]).keys():\n",
    "            ann.append(cp[i][split_vect[i]])\n",
    "    ans = []\n",
    "    for sent in ann:\n",
    "        for i in sent:\n",
    "            ans.append(sentences[i])\n",
    "    ans = list(set(ans))\n",
    "    return ans"
   ]
  },
  {
   "attachments": {},
   "cell_type": "markdown",
   "metadata": {},
   "source": [
    "Printing an example:-"
   ]
  },
  {
   "cell_type": "code",
   "execution_count": 51,
   "metadata": {},
   "outputs": [
    {
     "name": "stdout",
     "output_type": "stream",
     "text": [
      "A boy is happily playing the piano\n",
      "The boy isn't playing the piano happily\n",
      "A boy is playing guitar\n",
      "One boy is happily playing a piano\n",
      "There is no boy playing guitar\n"
     ]
    }
   ],
   "source": [
    "text = \"A boy is happily playing the piano\"\n",
    "# text = \"\"\n",
    "ann = ANN(text, candidate_pairs, vocabulary, K,\n",
    "          no_of_splits, signature_array, sentences)\n",
    "for i in ann:\n",
    "    print(i)"
   ]
  },
  {
   "attachments": {},
   "cell_type": "markdown",
   "metadata": {},
   "source": [
    "Finding the jaccard similarities of the various candidate pairs formed"
   ]
  },
  {
   "cell_type": "code",
   "execution_count": 52,
   "metadata": {},
   "outputs": [],
   "source": [
    "def jaccard(a, b):\n",
    "    ans = 0\n",
    "    for i in range(len(a)):\n",
    "        if a[i] in b:\n",
    "            ans = ans +1\n",
    "    return ans/len(a)\n",
    "\n",
    "jaccard_values = []\n",
    "\n",
    "for subdict in candidate_pairs:\n",
    "    for key in subdict:\n",
    "        if (len(subdict[key])) > 1:\n",
    "            a = subdict[key][0]\n",
    "            b = subdict[key][1]\n",
    "            a = list(make_shingles(sentences[a], K))\n",
    "            b = list(make_shingles(sentences[b], K))\n",
    "            jaccard_values.append(jaccard(a,b))"
   ]
  },
  {
   "attachments": {},
   "cell_type": "markdown",
   "metadata": {},
   "source": [
    "There are ~ 15900, shingles formed"
   ]
  },
  {
   "cell_type": "code",
   "execution_count": 54,
   "metadata": {},
   "outputs": [
    {
     "name": "stdout",
     "output_type": "stream",
     "text": [
      "15941\n"
     ]
    }
   ],
   "source": [
    "print(len(jaccard_values))"
   ]
  },
  {
   "cell_type": "code",
   "execution_count": 55,
   "metadata": {},
   "outputs": [
    {
     "data": {
      "image/png": "[encoded data removed]",
      "text/plain": [
       "<Figure size 640x480 with 1 Axes>"
      ]
     },
     "metadata": {},
     "output_type": "display_data"
    }
   ],
   "source": [
    "import numpy as np\n",
    "import matplotlib.pyplot as plt\n",
    "\n",
    "# # Fixing random state for reproducibility\n",
    "# np.random.seed(19680801)\n",
    "\n",
    "# mu, sigma = 100, 15\n",
    "# x = mu + sigma * np.random.randn(10000)\n",
    "\n",
    "# the histogram of the data\n",
    "n, bins, patches = plt.hist(jaccard_values, 20, density=True, facecolor='g', alpha=0.75)\n",
    "\n",
    "plt.xlabel('Jaccard Values')\n",
    "plt.ylabel('Probability density')\n",
    "plt.title('Ranges of Candidate Pairs Jaccards')\n",
    "plt.grid(True)\n",
    "plt.savefig('Ranges of Candidate Pairs Jaccards')\n",
    "plt.show()"
   ]
  }
 ],
 "metadata": {
  "kernelspec": {
   "display_name": "base",
   "language": "python",
   "name": "python3"
  },
  "language_info": {
   "codemirror_mode": {
    "name": "ipython",
    "version": 3
   },
   "file_extension": ".py",
   "mimetype": "text/x-python",
   "name": "python",
   "nbconvert_exporter": "python",
   "pygments_lexer": "ipython3",
   "version": "3.9.13"
  },
  "orig_nbformat": 4,
  "vscode": {
   "interpreter": {
    "hash": "b7a0f0345bf008463265b97b79e6b6ac46fd48f5252c12e26d20b6a21351a366"
   }
  }
 },
 "nbformat": 4,
 "nbformat_minor": 2
}
