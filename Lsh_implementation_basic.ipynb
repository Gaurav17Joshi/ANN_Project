{
 "cells": [
  {
   "attachments": {},
   "cell_type": "markdown",
   "metadata": {},
   "source": [
    "                    Implementing a simplified version of Locality sensitive hashing"
   ]
  },
  {
   "cell_type": "code",
   "execution_count": 1,
   "metadata": {},
   "outputs": [],
   "source": [
    "# Sample Sentences\n",
    "a = \"The quick brown fox jumped over the little lazy dog\"\n",
    "b = \"An elephant is jumping around in the streets\"\n",
    "c = \"You have to be quick, being lazy will take you nowhere\"\n",
    "d = \"The little lazy dog jumped over the quick brown fox\""
   ]
  },
  {
   "attachments": {},
   "cell_type": "markdown",
   "metadata": {},
   "source": [
    "We will be make k shingles with value of k being = 3. For larger datasets with large texts, we have to take the size of k more so that only those texts which are similar get closer vectors."
   ]
  },
  {
   "cell_type": "code",
   "execution_count": 75,
   "metadata": {},
   "outputs": [],
   "source": [
    "k = 3\n",
    "def shingle(text: str, k = 3):\n",
    "    shingle_list = []\n",
    "    for i in range(0,len(text) - k):\n",
    "        shingle_list.append(text[i:i+k])\n",
    "    return list(set(shingle_list))"
   ]
  },
  {
   "cell_type": "code",
   "execution_count": 76,
   "metadata": {},
   "outputs": [
    {
     "name": "stdout",
     "output_type": "stream",
     "text": [
      "['ed ', 'n f', 'itt', 'le ', 'zy ', 'ck ', 'ver', 'ick', 'x j', 'fox', ' do', 'tle', ' qu', 'r t', 'd o', 'ove', 'er ', 'k b', ' li', 'own', 'y d', 'row', 'lit', 'The', ' la', 'ump', ' ju', 'jum', 'ox ', 'qui', 'e l', 'azy', 'bro', ' br', ' ov', 'wn ', 'uic', 'mpe', 'the', 'ttl', 'he ', 'laz', ' th', ' fo', 'e q', 'ped']\n"
     ]
    }
   ],
   "source": [
    "# Demonstration of formation of shingles\n",
    "A = shingle(a,k)\n",
    "print(A)"
   ]
  },
  {
   "cell_type": "code",
   "execution_count": 77,
   "metadata": {},
   "outputs": [],
   "source": [
    "import random\n",
    "random.seed(42)\n",
    "\n",
    "def vocab(lest : list, k: int):\n",
    "    newlist = []\n",
    "    for texts in lest:\n",
    "        shin = shingle(texts, k)\n",
    "        for shingl in shin:\n",
    "            newlist.append(shingl)\n",
    "    thelist = list(set(newlist))\n",
    "    random.shuffle(thelist) \n",
    "    return thelist\n"
   ]
  },
  {
   "cell_type": "code",
   "execution_count": 78,
   "metadata": {},
   "outputs": [
    {
     "name": "stdout",
     "output_type": "stream",
     "text": [
      "['k b', 'ein', 'll ', 'ant', ' br', 'hav', 'bei', 'tre', 'ave', 'g j', 'aro', 'in ', 'e q', ' ha', ' ar', 'tak', 'azy', 'row', 'ele', 'he ', 'o b', 'uic', 'n f', ' st', 'mpi', 'e t', 'jum', 'You', 'laz', 'ng ', 'y w', 'ck ', 'und', 'ump', 'le ', ' do', ' wi', 'itt', 'now', 'owh', ' fo', 'lep', 'd i', 'pha', 'dog', 'n e', 'pin', 'wn ', ' qu', 've ', 'e l', 'ou ', 'tle', 'you', 'bro', 'rou', 'is ', 'ck,', 's j', 'be ', 'ke ', 'er ', 'The', 'ttl', 'eph', 'eet', 'ing', ' la', 'nd ', 'ick', 'the', 'fox', ' yo', 'her', 'whe', 'wil', 'str', 'r t', ' no', 'ake', ' ta', 'u n', 'ill', 'ove', ' to', 'g l', 'ed ', 'mpe', 'n t', 'to ', 'l t', ' el', ' ju', 'nt ', ', b', 'y d', ' be', ' li', 'd o', 'An ', 'oun', 'ped', ' th', 'han', 'ree', 'e y', 'k, ', 'g a', 'own', 'x j', 'qui', ' ov', 'u h', 't i', 'og ', ' in', 'e s', 'zy ', ' is', 'ver', 'lit', 'ox ']\n",
      "length of vocab is:  122\n"
     ]
    }
   ],
   "source": [
    "texts = [a,b,c,d]\n",
    "vocab = vocab(texts, k)\n",
    "print(vocab)\n",
    "print(\"length of vocab is: \", len(vocab))"
   ]
  },
  {
   "attachments": {},
   "cell_type": "markdown",
   "metadata": {},
   "source": [
    "                            Creating One hot vectors for all the text sentences."
   ]
  },
  {
   "cell_type": "code",
   "execution_count": 79,
   "metadata": {},
   "outputs": [
    {
     "name": "stdout",
     "output_type": "stream",
     "text": [
      "4\n",
      "122\n"
     ]
    }
   ],
   "source": [
    "one_hot_vectors = []\n",
    "for text in texts:\n",
    "    a_1hot = [1 if x in text else 0 for x in vocab]\n",
    "    one_hot_vectors.append(a_1hot)\n",
    "\n",
    "print(len(one_hot_vectors))\n",
    "print(len(one_hot_vectors[0]))"
   ]
  },
  {
   "attachments": {},
   "cell_type": "markdown",
   "metadata": {},
   "source": [
    "Here we have 4 122 dimensioned vectors which are one hot encoded for the k shingles. We will now use minhashing to get the different types of values. "
   ]
  },
  {
   "cell_type": "code",
   "execution_count": 80,
   "metadata": {},
   "outputs": [],
   "source": [
    "# MINHASHING to get signature\n",
    "import numpy as np\n",
    "\n",
    "def findones(arr, lest):\n",
    "    for i in arr:\n",
    "        if(lest[i] == 1):\n",
    "            return int(i)\n",
    "\n",
    "def get_signature(lest: list, n = 20):\n",
    "    length = len(lest[0])\n",
    "    random_matrix = []\n",
    "    for i in range(n):\n",
    "        random_matrix.append(np.random.randint(0,length,length))\n",
    "    signatures = []\n",
    "    for les in lest:\n",
    "        sig = np.ones(n)\n",
    "        for i in range(n):\n",
    "            sig[i] = findones(random_matrix[i], les)\n",
    "        signatures.append(sig)\n",
    "    return signatures\n",
    "\n",
    "    "
   ]
  },
  {
   "cell_type": "code",
   "execution_count": 81,
   "metadata": {},
   "outputs": [
    {
     "name": "stdout",
     "output_type": "stream",
     "text": [
      "[array([ 62.,  35.,  67.,  44.,  26.,  50.,  35.,  21., 119.,  47.,  21.,\n",
      "        69.,  33., 120., 101.,  83.,  67.,  83.,   4.,  26.]), array([ 32., 113.,  46.,  68.,  42.,  93.,  65., 102.,  29., 104., 116.,\n",
      "        23.,  33.,  41.,   3.,  55.,  99.,  93.,   3.,  24.]), array([106.,  38.,  67.,  38.,  73.,   6.,  13., 106.,  39.,  82.,  39.,\n",
      "        69.,  27.,  51.,  27.,  82.,  67.,  78., 117., 105.]), array([ 62.,  35.,  67., 114.,  26.,  50.,  35.,  21., 119.,  47.,  21.,\n",
      "        69.,  33., 120., 101.,  83.,  67.,  83.,   4.,  26.])]\n"
     ]
    }
   ],
   "source": [
    "g = get_signature(one_hot_vectors)\n",
    "print(g)"
   ]
  },
  {
   "cell_type": "code",
   "execution_count": 84,
   "metadata": {},
   "outputs": [],
   "source": [
    "# Jaccard function to compare two vectors\n",
    "def jaccard(a, b):\n",
    "    ans = 0\n",
    "    for i in range(len(a)):\n",
    "        if a[i] in b:\n",
    "            ans = ans +1\n",
    "    return ans/len(a)"
   ]
  },
  {
   "cell_type": "code",
   "execution_count": 87,
   "metadata": {},
   "outputs": [
    {
     "name": "stdout",
     "output_type": "stream",
     "text": [
      "0.13043478260869565 0.05\n",
      "0.1956521739130435 0.15\n",
      "0.9347826086956522 0.95\n"
     ]
    }
   ],
   "source": [
    "# Comparing a and b\n",
    "print(jaccard(shingle(a), shingle(b)), jaccard(g[0], g[1]))\n",
    "# Comparing a and c\n",
    "print(jaccard(shingle(a), shingle(c)), jaccard(g[0], g[2]))\n",
    "# Comparing a and d\n",
    "print(jaccard(shingle(a), shingle(d)), jaccard(g[0], g[3]))"
   ]
  },
  {
   "attachments": {},
   "cell_type": "markdown",
   "metadata": {},
   "source": [
    "We have shown that texts which match in their semantics also match in their hashing, so we will use these signatures and Perform an LSH (Locality Sensitiv Hashing on them)\n",
    "\n",
    "We will make bands of the subvectors and will make candidate pairs if the hasing of the subvecotrs falls into the same bucket"
   ]
  },
  {
   "cell_type": "code",
   "execution_count": 88,
   "metadata": {},
   "outputs": [],
   "source": [
    "def split_vector(signature, b):\n",
    "    assert len(signature) % b == 0\n",
    "    r = int(len(signature) / b)\n",
    "    # code splitting signature in b parts\n",
    "    subvecs = []\n",
    "    for i in range(0, len(signature), r):\n",
    "        subvecs.append(signature[i : i+r])\n",
    "    return subvecs"
   ]
  },
  {
   "cell_type": "code",
   "execution_count": 90,
   "metadata": {},
   "outputs": [],
   "source": [
    "bands = 10\n",
    "bands_a = split_vector(g[0], bands)\n",
    "bands_b = split_vector(g[1], bands)\n",
    "bands_c = split_vector(g[2], bands)\n",
    "bands_d = split_vector(g[3], bands)"
   ]
  },
  {
   "cell_type": "code",
   "execution_count": 91,
   "metadata": {},
   "outputs": [
    {
     "name": "stdout",
     "output_type": "stream",
     "text": [
      "[array([62., 35.]), array([67., 44.]), array([26., 50.]), array([35., 21.]), array([119.,  47.]), array([21., 69.]), array([ 33., 120.]), array([101.,  83.]), array([67., 83.]), array([ 4., 26.])]\n",
      "[array([ 32., 113.]), array([46., 68.]), array([42., 93.]), array([ 65., 102.]), array([ 29., 104.]), array([116.,  23.]), array([33., 41.]), array([ 3., 55.]), array([99., 93.]), array([ 3., 24.])]\n"
     ]
    }
   ],
   "source": [
    "print(bands_a)\n",
    "print(bands_b)"
   ]
  },
  {
   "cell_type": "code",
   "execution_count": 105,
   "metadata": {},
   "outputs": [],
   "source": [
    "# def check_bands(banda, bandb):\n",
    "#     for i in range(len(banda)):\n",
    "#         equal = 1\n",
    "#         for j in range(len(banda[i])):\n",
    "#             if banda[i] != bandb[i]:\n",
    "#                 equal = 0\n",
    "#                 break;\n",
    "\n",
    "#         if banda[i].all() == bandb[i].all():\n",
    "#             print(banda[i].all())\n",
    "#             print(bandb[i].all())\n",
    "#             print(\"Candidate pairs \", banda[i])\n",
    "#             return\n",
    "#     print(\"Not Candidate pairs\")\n",
    "\n",
    "def check_bands(banda, bandb):\n",
    "    for i in range(len(banda)):\n",
    "        if list(banda[i]) == list(bandb[i]):\n",
    "            print(\"Candidate pairs \", banda[i])\n",
    "            return\n",
    "    print(\"Not Candidate pairs\")\n",
    "    return"
   ]
  },
  {
   "cell_type": "code",
   "execution_count": 108,
   "metadata": {},
   "outputs": [
    {
     "name": "stdout",
     "output_type": "stream",
     "text": [
      "Not Candidate pairs\n",
      "Not Candidate pairs\n",
      "Candidate pairs  [62. 35.]\n",
      "Not Candidate pairs\n"
     ]
    }
   ],
   "source": [
    "# Checking the candidate pairs of statements\n",
    "check_bands(bands_a, bands_b)\n",
    "check_bands(bands_a, bands_c)\n",
    "check_bands(bands_a, bands_d)\n",
    "check_bands(bands_b, bands_d)\n"
   ]
  },
  {
   "attachments": {},
   "cell_type": "markdown",
   "metadata": {},
   "source": [
    "Hense, we can see sentence a = \"The quick brown fox jumped over the little lazy dog\" and sentence \n",
    "d = \"The little lazy dog jumped over the quick brown fox\" are a candidate pair"
   ]
  }
 ],
 "metadata": {
  "kernelspec": {
   "display_name": "base",
   "language": "python",
   "name": "python3"
  },
  "language_info": {
   "codemirror_mode": {
    "name": "ipython",
    "version": 3
   },
   "file_extension": ".py",
   "mimetype": "text/x-python",
   "name": "python",
   "nbconvert_exporter": "python",
   "pygments_lexer": "ipython3",
   "version": "3.9.13"
  },
  "orig_nbformat": 4,
  "vscode": {
   "interpreter": {
    "hash": "b7a0f0345bf008463265b97b79e6b6ac46fd48f5252c12e26d20b6a21351a366"
   }
  }
 },
 "nbformat": 4,
 "nbformat_minor": 2
}
